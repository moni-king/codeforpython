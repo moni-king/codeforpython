{
 "cells": [
  {
   "cell_type": "code",
   "execution_count": 3,
   "metadata": {},
   "outputs": [
    {
     "name": "stdout",
     "output_type": "stream",
     "text": [
      "['False', 'None', 'True', 'and', 'as', 'assert', 'async', 'await', 'break', 'class', 'continue', 'def', 'del', 'elif', 'else', 'except', 'finally', 'for', 'from', 'global', 'if', 'import', 'in', 'is', 'lambda', 'nonlocal', 'not', 'or', 'pass', 'raise', 'return', 'try', 'while', 'with', 'yield']\n"
     ]
    }
   ],
   "source": [
    "import keyword\n",
    "\n",
    "print(keyword.kwlist)"
   ]
  },
  {
   "cell_type": "code",
   "execution_count": 6,
   "metadata": {},
   "outputs": [
    {
     "name": "stdout",
     "output_type": "stream",
     "text": [
      "[['hero', [1, 2, 4], {2, 3, 4, 5}, (5+4j)], 10] [['hero', [1, 2, 4], {2, 3, 4, 5}, (5+4j)], 10] [['hero', [1, 2, 4], {2, 3, 4, 5}, (5+4j)]] [['hero', [1, 2, 3], {2, 3, 4, 5}, (5+4j)]]\n"
     ]
    }
   ],
   "source": [
    "import copy\n",
    "\n",
    "l=[[\"hero\",[1,2,3],{2,3,4,5},5+4j]]\n",
    "\n",
    "h=l\n",
    "j=l.copy()\n",
    "k=copy.deepcopy(l)\n",
    "\n",
    "l.append(10)\n",
    "l[0][1][2]=4\n",
    "print(l,h,j,k)"
   ]
  }
 ],
 "metadata": {
  "kernelspec": {
   "display_name": "Python 3",
   "language": "python",
   "name": "python3"
  },
  "language_info": {
   "codemirror_mode": {
    "name": "ipython",
    "version": 3
   },
   "file_extension": ".py",
   "mimetype": "text/x-python",
   "name": "python",
   "nbconvert_exporter": "python",
   "pygments_lexer": "ipython3",
   "version": "3.12.1"
  }
 },
 "nbformat": 4,
 "nbformat_minor": 2
}
